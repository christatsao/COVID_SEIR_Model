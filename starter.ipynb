{
 "cells": [
  {
   "cell_type": "code",
   "execution_count": null,
   "id": "61f11cbb-1dc0-42a8-8d2e-b56bea91dd23",
   "metadata": {},
   "outputs": [],
   "source": []
  },
  {
   "cell_type": "code",
   "execution_count": 30,
   "id": "b1200a87-9519-46c3-baac-6654bfbba110",
   "metadata": {},
   "outputs": [
    {
     "name": "stdout",
     "output_type": "stream",
     "text": [
      "Joe has not been sick for 0 days.\n",
      "Joe has not been sick for 1 days.\n",
      "Joe has not been sick for 2 days.\n",
      "Joe is sick on day 3\n",
      "Joe is sick on day 4\n",
      "Joe is sick on day 5\n",
      "Joe is sick on day 6\n",
      "Joe is sick on day 7\n",
      "Joe can no longer be sick.\n",
      "It took Joe 8 days to become immune.\n"
     ]
    }
   ],
   "source": [
    "import random\n",
    "\n",
    "days = 0\n",
    "susceptible = True\n",
    "while( susceptible == True ):\n",
    "    joesChance = random.randint( 0 , 100 )\n",
    "    if( joesChance < 10 ):\n",
    "        start = days\n",
    "        end = days + 5\n",
    "        for x in range( start , end ):\n",
    "            print( \"Joe is sick on day\" , x )\n",
    "            days += 1\n",
    "        susceptible = False\n",
    "        print( \"Joe can no longer be sick.\" )\n",
    "    else:\n",
    "        print( \"Joe has not been sick for\" , days , \"days.\" )\n",
    "        days += 1  \n",
    "print( \"It took Joe\" , days , \"days to become immune.\" )"
   ]
  }
 ],
 "metadata": {
  "IMAGE_NAME": "taccsciapps/ds-nb-img:base-0.1.0",
  "UUID": "8e15d0a2-e68c-11ec-8b2c-96f31a809607",
  "kernelspec": {
   "display_name": "Python 3 (ipykernel)",
   "language": "python",
   "name": "python3"
  },
  "language_info": {
   "codemirror_mode": {
    "name": "ipython",
    "version": 3
   },
   "file_extension": ".py",
   "mimetype": "text/x-python",
   "name": "python",
   "nbconvert_exporter": "python",
   "pygments_lexer": "ipython3",
   "version": "3.9.10"
  }
 },
 "nbformat": 4,
 "nbformat_minor": 5
}
